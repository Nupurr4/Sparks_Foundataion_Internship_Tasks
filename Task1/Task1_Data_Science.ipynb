{
 "cells": [
  {
   "cell_type": "markdown",
   "id": "reasonable-firewall",
   "metadata": {},
   "source": [
    "# Author- Nupur Rajeshirke\n",
    "## Data Science & Business Analytics Internship - The Sparks Foundation\n",
    "## Task-1:  Prediction Using Supervised Machine Learning\n",
    "## The Aim of the task is to predict the percentage of an student based on the number of study hours using the Linear Progression Supervised Machine Learning Algorithm."
   ]
  },
  {
   "cell_type": "markdown",
   "id": "laden-terrorism",
   "metadata": {},
   "source": [
    "### Step1: Importing the dataset"
   ]
  },
  {
   "cell_type": "code",
   "execution_count": 4,
   "id": "streaming-murder",
   "metadata": {},
   "outputs": [],
   "source": [
    "# Importing the required libraries\n",
    "import pandas as pd\n",
    "import seaborn as sns\n",
    "import numpy as np  \n",
    "import matplotlib.pyplot as plt  \n",
    "%matplotlib inline"
   ]
  },
  {
   "cell_type": "code",
   "execution_count": 6,
   "id": "taken-freight",
   "metadata": {},
   "outputs": [
    {
     "name": "stdout",
     "output_type": "stream",
     "text": [
      "Data imported successfully\n"
     ]
    },
    {
     "data": {
      "text/html": [
       "<div>\n",
       "<style scoped>\n",
       "    .dataframe tbody tr th:only-of-type {\n",
       "        vertical-align: middle;\n",
       "    }\n",
       "\n",
       "    .dataframe tbody tr th {\n",
       "        vertical-align: top;\n",
       "    }\n",
       "\n",
       "    .dataframe thead th {\n",
       "        text-align: right;\n",
       "    }\n",
       "</style>\n",
       "<table border=\"1\" class=\"dataframe\">\n",
       "  <thead>\n",
       "    <tr style=\"text-align: right;\">\n",
       "      <th></th>\n",
       "      <th>Hours</th>\n",
       "      <th>Scores</th>\n",
       "    </tr>\n",
       "  </thead>\n",
       "  <tbody>\n",
       "    <tr>\n",
       "      <th>0</th>\n",
       "      <td>2.5</td>\n",
       "      <td>21</td>\n",
       "    </tr>\n",
       "    <tr>\n",
       "      <th>1</th>\n",
       "      <td>5.1</td>\n",
       "      <td>47</td>\n",
       "    </tr>\n",
       "    <tr>\n",
       "      <th>2</th>\n",
       "      <td>3.2</td>\n",
       "      <td>27</td>\n",
       "    </tr>\n",
       "    <tr>\n",
       "      <th>3</th>\n",
       "      <td>8.5</td>\n",
       "      <td>75</td>\n",
       "    </tr>\n",
       "    <tr>\n",
       "      <th>4</th>\n",
       "      <td>3.5</td>\n",
       "      <td>30</td>\n",
       "    </tr>\n",
       "    <tr>\n",
       "      <th>5</th>\n",
       "      <td>1.5</td>\n",
       "      <td>20</td>\n",
       "    </tr>\n",
       "    <tr>\n",
       "      <th>6</th>\n",
       "      <td>9.2</td>\n",
       "      <td>88</td>\n",
       "    </tr>\n",
       "    <tr>\n",
       "      <th>7</th>\n",
       "      <td>5.5</td>\n",
       "      <td>60</td>\n",
       "    </tr>\n",
       "    <tr>\n",
       "      <th>8</th>\n",
       "      <td>8.3</td>\n",
       "      <td>81</td>\n",
       "    </tr>\n",
       "    <tr>\n",
       "      <th>9</th>\n",
       "      <td>2.7</td>\n",
       "      <td>25</td>\n",
       "    </tr>\n",
       "    <tr>\n",
       "      <th>10</th>\n",
       "      <td>7.7</td>\n",
       "      <td>85</td>\n",
       "    </tr>\n",
       "    <tr>\n",
       "      <th>11</th>\n",
       "      <td>5.9</td>\n",
       "      <td>62</td>\n",
       "    </tr>\n",
       "    <tr>\n",
       "      <th>12</th>\n",
       "      <td>4.5</td>\n",
       "      <td>41</td>\n",
       "    </tr>\n",
       "    <tr>\n",
       "      <th>13</th>\n",
       "      <td>3.3</td>\n",
       "      <td>42</td>\n",
       "    </tr>\n",
       "    <tr>\n",
       "      <th>14</th>\n",
       "      <td>1.1</td>\n",
       "      <td>17</td>\n",
       "    </tr>\n",
       "  </tbody>\n",
       "</table>\n",
       "</div>"
      ],
      "text/plain": [
       "    Hours  Scores\n",
       "0     2.5      21\n",
       "1     5.1      47\n",
       "2     3.2      27\n",
       "3     8.5      75\n",
       "4     3.5      30\n",
       "5     1.5      20\n",
       "6     9.2      88\n",
       "7     5.5      60\n",
       "8     8.3      81\n",
       "9     2.7      25\n",
       "10    7.7      85\n",
       "11    5.9      62\n",
       "12    4.5      41\n",
       "13    3.3      42\n",
       "14    1.1      17"
      ]
     },
     "execution_count": 6,
     "metadata": {},
     "output_type": "execute_result"
    }
   ],
   "source": [
    "# Reading data \n",
    "path = \"http://bit.ly/w-data\"\n",
    "data = pd.read_csv(path)\n",
    "print(\"Data imported successfully\")\n",
    "data.head(15)"
   ]
  },
  {
   "cell_type": "markdown",
   "id": "pleasant-beijing",
   "metadata": {},
   "source": [
    "### Step2: Check For the Null Values"
   ]
  },
  {
   "cell_type": "code",
   "execution_count": 7,
   "id": "friendly-department",
   "metadata": {},
   "outputs": [
    {
     "data": {
      "text/plain": [
       "Hours     0\n",
       "Scores    0\n",
       "dtype: int64"
      ]
     },
     "execution_count": 7,
     "metadata": {},
     "output_type": "execute_result"
    }
   ],
   "source": [
    "#Checking if there are any null values in the dataset\n",
    "data.isnull().sum()"
   ]
  },
  {
   "cell_type": "code",
   "execution_count": 8,
   "id": "prerequisite-personality",
   "metadata": {},
   "outputs": [
    {
     "data": {
      "text/html": [
       "<div>\n",
       "<style scoped>\n",
       "    .dataframe tbody tr th:only-of-type {\n",
       "        vertical-align: middle;\n",
       "    }\n",
       "\n",
       "    .dataframe tbody tr th {\n",
       "        vertical-align: top;\n",
       "    }\n",
       "\n",
       "    .dataframe thead th {\n",
       "        text-align: right;\n",
       "    }\n",
       "</style>\n",
       "<table border=\"1\" class=\"dataframe\">\n",
       "  <thead>\n",
       "    <tr style=\"text-align: right;\">\n",
       "      <th></th>\n",
       "      <th>Hours</th>\n",
       "      <th>Scores</th>\n",
       "    </tr>\n",
       "  </thead>\n",
       "  <tbody>\n",
       "    <tr>\n",
       "      <th>count</th>\n",
       "      <td>25.000000</td>\n",
       "      <td>25.000000</td>\n",
       "    </tr>\n",
       "    <tr>\n",
       "      <th>mean</th>\n",
       "      <td>5.012000</td>\n",
       "      <td>51.480000</td>\n",
       "    </tr>\n",
       "    <tr>\n",
       "      <th>std</th>\n",
       "      <td>2.525094</td>\n",
       "      <td>25.286887</td>\n",
       "    </tr>\n",
       "    <tr>\n",
       "      <th>min</th>\n",
       "      <td>1.100000</td>\n",
       "      <td>17.000000</td>\n",
       "    </tr>\n",
       "    <tr>\n",
       "      <th>25%</th>\n",
       "      <td>2.700000</td>\n",
       "      <td>30.000000</td>\n",
       "    </tr>\n",
       "    <tr>\n",
       "      <th>50%</th>\n",
       "      <td>4.800000</td>\n",
       "      <td>47.000000</td>\n",
       "    </tr>\n",
       "    <tr>\n",
       "      <th>75%</th>\n",
       "      <td>7.400000</td>\n",
       "      <td>75.000000</td>\n",
       "    </tr>\n",
       "    <tr>\n",
       "      <th>max</th>\n",
       "      <td>9.200000</td>\n",
       "      <td>95.000000</td>\n",
       "    </tr>\n",
       "  </tbody>\n",
       "</table>\n",
       "</div>"
      ],
      "text/plain": [
       "           Hours     Scores\n",
       "count  25.000000  25.000000\n",
       "mean    5.012000  51.480000\n",
       "std     2.525094  25.286887\n",
       "min     1.100000  17.000000\n",
       "25%     2.700000  30.000000\n",
       "50%     4.800000  47.000000\n",
       "75%     7.400000  75.000000\n",
       "max     9.200000  95.000000"
      ]
     },
     "execution_count": 8,
     "metadata": {},
     "output_type": "execute_result"
    }
   ],
   "source": [
    "#Use describe() method  to see percentiles,mean,std deviation,max,min,count of the given dataset.\n",
    "data.describe()"
   ]
  },
  {
   "cell_type": "code",
   "execution_count": 9,
   "id": "thirty-athens",
   "metadata": {},
   "outputs": [
    {
     "name": "stdout",
     "output_type": "stream",
     "text": [
      "<class 'pandas.core.frame.DataFrame'>\n",
      "RangeIndex: 25 entries, 0 to 24\n",
      "Data columns (total 2 columns):\n",
      " #   Column  Non-Null Count  Dtype  \n",
      "---  ------  --------------  -----  \n",
      " 0   Hours   25 non-null     float64\n",
      " 1   Scores  25 non-null     int64  \n",
      "dtypes: float64(1), int64(1)\n",
      "memory usage: 464.0 bytes\n"
     ]
    }
   ],
   "source": [
    "#Print the full summary of the data.\n",
    "data.info()"
   ]
  },
  {
   "cell_type": "markdown",
   "id": "associate-pavilion",
   "metadata": {},
   "source": [
    "### Step3: Visualize The Data"
   ]
  },
  {
   "cell_type": "code",
   "execution_count": 20,
   "id": "environmental-purpose",
   "metadata": {},
   "outputs": [
    {
     "data": {
      "image/png": "[encoded data removed]",
      "text/plain": [
       "<Figure size 432x288 with 1 Axes>"
      ]
     },
     "metadata": {
      "needs_background": "light"
     },
     "output_type": "display_data"
    }
   ],
   "source": [
    "#Ploting Scatter plot\n",
    "\n",
    "plt.xlabel('Hours', fontsize = 15)\n",
    "plt.ylabel('Scores', fontsize = 15)\n",
    "plt.title('Hours Studied vs Score', fontsize = 10)\n",
    "plt.scatter(data.Hours,data.Scores, color='blue', marker='o')\n",
    "plt.show()"
   ]
  },
  {
   "cell_type": "markdown",
   "id": "usual-feelings",
   "metadata": {},
   "source": [
    "#### This Scatter Plot indicates positive linear relationship as much as hours you study is a chance of high scoring."
   ]
  },
  {
   "cell_type": "markdown",
   "id": "biblical-crawford",
   "metadata": {},
   "source": [
    "### Step4: Prepare the Data"
   ]
  },
  {
   "cell_type": "code",
   "execution_count": 14,
   "id": "figured-density",
   "metadata": {},
   "outputs": [],
   "source": [
    "# Divide the data into \"attributes\" (inputs) and \"labels\" (outputs)\n",
    "X = data.iloc[:, :-1].values  \n",
    "y = data.iloc[:, 1].values"
   ]
  },
  {
   "cell_type": "markdown",
   "id": "lonely-newton",
   "metadata": {},
   "source": [
    "### Step5: Split The Data into Train and Test Sets"
   ]
  },
  {
   "cell_type": "code",
   "execution_count": 15,
   "id": "legislative-filling",
   "metadata": {},
   "outputs": [],
   "source": [
    "# Now that we have our attributes and labels, the next step is to split this data into training and test sets. \n",
    "# We'll do this by using Scikit-Learn's built-in train_test_split() method:\n",
    "\n",
    "from sklearn.model_selection import train_test_split\n",
    "X_train, X_test, y_train, y_test = train_test_split(X, y, test_size = 0.2, random_state = 0)"
   ]
  },
  {
   "cell_type": "markdown",
   "id": "tight-suicide",
   "metadata": {},
   "source": [
    "### Step6: Train The Model"
   ]
  },
  {
   "cell_type": "code",
   "execution_count": 17,
   "id": "daily-defendant",
   "metadata": {},
   "outputs": [
    {
     "name": "stdout",
     "output_type": "stream",
     "text": [
      "Training Of Model is Complete\n"
     ]
    }
   ],
   "source": [
    "from sklearn.linear_model import LinearRegression\n",
    "reg = LinearRegression()\n",
    "reg.fit(X_train, y_train)\n",
    "print(\"Training Of Model is Complete\")"
   ]
  },
  {
   "cell_type": "code",
   "execution_count": 21,
   "id": "south-monitoring",
   "metadata": {},
   "outputs": [
    {
     "data": {
      "image/png": "[encoded data removed]",
      "text/plain": [
       "<Figure size 432x288 with 1 Axes>"
      ]
     },
     "metadata": {
      "needs_background": "light"
     },
     "output_type": "display_data"
    }
   ],
   "source": [
    "# Plotting the regression line\n",
    "line = reg.coef_*X + reg.intercept_\n",
    "plt.scatter(X_train, y_train,color='green')\n",
    "plt.plot(X, line, color = 'purple')\n",
    "plt.xlabel('Hours Studied')\n",
    "plt.ylabel('Percentage Score')\n",
    "plt.title(\"Regression line(Train set)\",fontsize=10)\n",
    "plt.grid()\n",
    "plt.show()"
   ]
  },
  {
   "cell_type": "markdown",
   "id": "architectural-journey",
   "metadata": {},
   "source": [
    "### Step7: Test the Data"
   ]
  },
  {
   "cell_type": "code",
   "execution_count": 23,
   "id": "stopped-digest",
   "metadata": {},
   "outputs": [
    {
     "data": {
      "image/png": "[encoded data removed]",
      "text/plain": [
       "<Figure size 432x288 with 1 Axes>"
      ]
     },
     "metadata": {
      "needs_background": "light"
     },
     "output_type": "display_data"
    }
   ],
   "source": [
    "#plotting line on test data\n",
    "plt.scatter(X_test, y_test)\n",
    "plt.plot(X, line, color = 'red')\n",
    "plt.xlabel('Hours studied')\n",
    "plt.ylabel('Percentage Score')\n",
    "plt.grid()\n",
    "plt.show()"
   ]
  },
  {
   "cell_type": "markdown",
   "id": "separated-california",
   "metadata": {},
   "source": [
    "### Step8: Make Prediction"
   ]
  },
  {
   "cell_type": "code",
   "execution_count": 24,
   "id": "practical-museum",
   "metadata": {},
   "outputs": [
    {
     "name": "stdout",
     "output_type": "stream",
     "text": [
      "[[1.5]\n",
      " [3.2]\n",
      " [7.4]\n",
      " [2.5]\n",
      " [5.9]]\n"
     ]
    }
   ],
   "source": [
    "print(X_test) # Testing data - In Hours\n",
    "y_pred = reg.predict(X_test) # Predicting the scores"
   ]
  },
  {
   "cell_type": "markdown",
   "id": "forward-bleeding",
   "metadata": {},
   "source": [
    "### Comparing Actual vs Predicted Scores"
   ]
  },
  {
   "cell_type": "code",
   "execution_count": 25,
   "id": "brief-connectivity",
   "metadata": {},
   "outputs": [
    {
     "data": {
      "text/html": [
       "<div>\n",
       "<style scoped>\n",
       "    .dataframe tbody tr th:only-of-type {\n",
       "        vertical-align: middle;\n",
       "    }\n",
       "\n",
       "    .dataframe tbody tr th {\n",
       "        vertical-align: top;\n",
       "    }\n",
       "\n",
       "    .dataframe thead th {\n",
       "        text-align: right;\n",
       "    }\n",
       "</style>\n",
       "<table border=\"1\" class=\"dataframe\">\n",
       "  <thead>\n",
       "    <tr style=\"text-align: right;\">\n",
       "      <th></th>\n",
       "      <th>Actual</th>\n",
       "      <th>Predicted</th>\n",
       "    </tr>\n",
       "  </thead>\n",
       "  <tbody>\n",
       "    <tr>\n",
       "      <th>0</th>\n",
       "      <td>20</td>\n",
       "      <td>16.884145</td>\n",
       "    </tr>\n",
       "    <tr>\n",
       "      <th>1</th>\n",
       "      <td>27</td>\n",
       "      <td>33.732261</td>\n",
       "    </tr>\n",
       "    <tr>\n",
       "      <th>2</th>\n",
       "      <td>69</td>\n",
       "      <td>75.357018</td>\n",
       "    </tr>\n",
       "    <tr>\n",
       "      <th>3</th>\n",
       "      <td>30</td>\n",
       "      <td>26.794801</td>\n",
       "    </tr>\n",
       "    <tr>\n",
       "      <th>4</th>\n",
       "      <td>62</td>\n",
       "      <td>60.491033</td>\n",
       "    </tr>\n",
       "  </tbody>\n",
       "</table>\n",
       "</div>"
      ],
      "text/plain": [
       "   Actual  Predicted\n",
       "0      20  16.884145\n",
       "1      27  33.732261\n",
       "2      69  75.357018\n",
       "3      30  26.794801\n",
       "4      62  60.491033"
      ]
     },
     "execution_count": 25,
     "metadata": {},
     "output_type": "execute_result"
    }
   ],
   "source": [
    "compare_scores = pd.DataFrame({'Actual': y_test, 'Predicted': y_pred})  \n",
    "compare_scores"
   ]
  },
  {
   "cell_type": "markdown",
   "id": "private-government",
   "metadata": {},
   "source": [
    "### Accuracy Of The Model"
   ]
  },
  {
   "cell_type": "code",
   "execution_count": 28,
   "id": "appointed-encoding",
   "metadata": {},
   "outputs": [
    {
     "name": "stdout",
     "output_type": "stream",
     "text": [
      "Accuracy of Actual and Predicted R-squared IS: 0.9454906892105355\n"
     ]
    }
   ],
   "source": [
    "# goodness of the fit test\n",
    "from sklearn import metrics\n",
    "print('Accuracy of Actual and Predicted R-squared IS:', metrics.r2_score(y_test, y_pred))"
   ]
  },
  {
   "cell_type": "markdown",
   "id": "apart-device",
   "metadata": {},
   "source": [
    "#### Above 94% percentage indicates that above fitted Model is a GOOD MODEL."
   ]
  },
  {
   "cell_type": "markdown",
   "id": "formed-therapist",
   "metadata": {},
   "source": [
    "### Step9: Predicting the Error"
   ]
  },
  {
   "cell_type": "code",
   "execution_count": 29,
   "id": "liberal-bacteria",
   "metadata": {},
   "outputs": [
    {
     "name": "stdout",
     "output_type": "stream",
     "text": [
      "Mean Squared Error      =  21.598769307217413\n",
      "Root Mean Squared Error =  4.647447612100368\n",
      "Mean Absolute Error     =  4.647447612100368\n"
     ]
    }
   ],
   "source": [
    "from sklearn.metrics import mean_squared_error,mean_absolute_error\n",
    "MSE = metrics.mean_squared_error(y_test, y_pred)\n",
    "RMSE = np.sqrt(metrics.mean_squared_error(y_test, y_pred))\n",
    "MAb_E = np.sqrt(metrics.mean_squared_error(y_test, y_pred))\n",
    "print(\"Mean Squared Error      = \",MSE)\n",
    "print(\"Root Mean Squared Error = \",RMSE)\n",
    "print(\"Mean Absolute Error     = \",MAb_E)"
   ]
  },
  {
   "cell_type": "markdown",
   "id": "alien-reset",
   "metadata": {},
   "source": [
    "#### Small value of Mean absolute error states that the chances of error or wrong forecasting through the model are very less"
   ]
  },
  {
   "cell_type": "markdown",
   "id": "environmental-competition",
   "metadata": {},
   "source": [
    "### Step10: What will be predicted score if a student studies for 9.25 hrs/ day?"
   ]
  },
  {
   "cell_type": "code",
   "execution_count": 35,
   "id": "heavy-taiwan",
   "metadata": {},
   "outputs": [
    {
     "name": "stdout",
     "output_type": "stream",
     "text": [
      "Predicted Score for 9.25 hours/day = 93.69\n"
     ]
    }
   ],
   "source": [
    "# You can also test with your own data\n",
    "hours = [9.25]\n",
    "result = reg.predict([hours])\n",
    "print(\"Predicted Score for 9.25 hours/day = {}\".format(round(result[0],2)))"
   ]
  },
  {
   "cell_type": "markdown",
   "id": "raised-encoding",
   "metadata": {},
   "source": [
    "## Conclusion::"
   ]
  },
  {
   "cell_type": "markdown",
   "id": "adequate-certificate",
   "metadata": {},
   "source": [
    "### From the above result we can say that if a studied for 9.25 hrs/day then student will secure 93.69 MARKS."
   ]
  },
  {
   "cell_type": "code",
   "execution_count": null,
   "id": "nervous-grammar",
   "metadata": {},
   "outputs": [],
   "source": []
  }
 ],
 "metadata": {
  "kernelspec": {
   "display_name": "Python 3",
   "language": "python",
   "name": "python3"
  },
  "language_info": {
   "codemirror_mode": {
    "name": "ipython",
    "version": 3
   },
   "file_extension": ".py",
   "mimetype": "text/x-python",
   "name": "python",
   "nbconvert_exporter": "python",
   "pygments_lexer": "ipython3",
   "version": "3.7.3"
  }
 },
 "nbformat": 4,
 "nbformat_minor": 5
}
